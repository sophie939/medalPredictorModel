{
 "cells": [
  {
   "cell_type": "markdown",
   "metadata": {},
   "source": [
    "# Olympic Medal Prediction - Setup and Database Connection"
   ]
  },
  {
   "cell_type": "markdown",
   "metadata": {},
   "source": [
    "## 1. Setup and Library Imports"
   ]
  },
  {
   "cell_type": "code",
   "execution_count": 1,
   "metadata": {},
   "outputs": [
    {
     "name": "stdout",
     "output_type": "stream",
     "text": [
      "All libraries imported successfully!\n",
      "Analysis Date: 2025-07-29 21:24:19\n"
     ]
    }
   ],
   "source": [
    "import pandas as pd\n",
    "import numpy as np\n",
    "import sqlite3\n",
    "import warnings\n",
    "import os\n",
    "from pathlib import Path\n",
    "warnings.filterwarnings('ignore')\n",
    "\n",
    "import matplotlib.pyplot as plt\n",
    "import seaborn as sns\n",
    "import plotly.express as px\n",
    "import plotly.graph_objects as go\n",
    "from plotly.subplots import make_subplots\n",
    "\n",
    "from sklearn.model_selection import train_test_split, cross_val_score, GridSearchCV, StratifiedKFold\n",
    "from sklearn.preprocessing import StandardScaler, LabelEncoder\n",
    "from sklearn.ensemble import GradientBoostingClassifier\n",
    "from sklearn.metrics import (\n",
    "    classification_report, confusion_matrix, roc_auc_score, \n",
    "    roc_curve, precision_recall_curve, accuracy_score, f1_score\n",
    ")\n",
    "from sklearn.pipeline import Pipeline\n",
    "from sklearn.inspection import permutation_importance\n",
    "\n",
    "import joblib\n",
    "from datetime import datetime\n",
    "\n",
    "plt.style.use('seaborn-v0_8')\n",
    "sns.set_palette(\"husl\")\n",
    "\n",
    "print(\"All libraries imported successfully!\")\n",
    "print(f\"Analysis Date: {datetime.now().strftime('%Y-%m-%d %H:%M:%S')}\")"
   ]
  },
  {
   "cell_type": "markdown",
   "metadata": {},
   "source": [
    "## 2. Database Connection"
   ]
  },
  {
   "cell_type": "code",
   "execution_count": 2,
   "metadata": {},
   "outputs": [
    {
     "name": "stdout",
     "output_type": "stream",
     "text": [
      "Database found: /Users/sophie/Desktop/Uni_year_2/project-at2024-theolympians/Group_Project/olympics_SQL.db\n",
      "Available tables: COUNTRY, COUNTRY_DETAILS, SPORT, OLYMPIC, SINGLES_EVENT, TEAM_EVENT, OLYMPIC_SPORT, PART_OF, ATHLETE, PARTICIPATES, TEAM\n",
      "Database size: 6.91 MB\n"
     ]
    }
   ],
   "source": [
    "DB_PATH = '/Users/sophie/Desktop/Uni_year_2/project-at2024-theolympians/Group_Project/olympics_SQL.db'\n",
    "\n",
    "if not os.path.exists(DB_PATH):\n",
    "    print(f\"Database not found at {DB_PATH}\")\n",
    "    print(\"Please ensure the database file is in the correct location.\")\n",
    "else:\n",
    "    print(f\"Database found: {DB_PATH}\")\n",
    "\n",
    "    conn = sqlite3.connect(DB_PATH)\n",
    "    \n",
    "    tables_query = \"SELECT name FROM sqlite_master WHERE type='table';\"\n",
    "    tables = pd.read_sql_query(tables_query, conn)\n",
    "    \n",
    "    print(f\"Available tables: {', '.join(tables['name'].tolist())}\")\n",
    "    print(f\"Database size: {os.path.getsize(DB_PATH) / 1024 / 1024:.2f} MB\")"
   ]
  },
  {
   "cell_type": "markdown",
   "metadata": {},
   "source": [
    "## 3. Data Extraction"
   ]
  },
  {
   "cell_type": "code",
   "execution_count": 3,
   "metadata": {},
   "outputs": [
    {
     "name": "stdout",
     "output_type": "stream",
     "text": [
      "Successfully extracted 21,398 records\n",
      "Unique athletes: 12,354\n",
      "Countries represented: 167\n",
      "Sports included: 48\n",
      "Events covered: 266\n",
      "\n",
      "Medal Distribution:\n",
      "   No Medal: 19,090 (89.2%)\n",
      "   Bronze: 907 (4.2%)\n",
      "   Silver: 708 (3.3%)\n",
      "   Gold: 693 (3.2%)\n",
      "\n",
      "Sample Data:\n"
     ]
    },
    {
     "data": {
      "text/html": [
       "<div>\n",
       "<style scoped>\n",
       "    .dataframe tbody tr th:only-of-type {\n",
       "        vertical-align: middle;\n",
       "    }\n",
       "\n",
       "    .dataframe tbody tr th {\n",
       "        vertical-align: top;\n",
       "    }\n",
       "\n",
       "    .dataframe thead th {\n",
       "        text-align: right;\n",
       "    }\n",
       "</style>\n",
       "<table border=\"1\" class=\"dataframe\">\n",
       "  <thead>\n",
       "    <tr style=\"text-align: right;\">\n",
       "      <th></th>\n",
       "      <th>athleteID</th>\n",
       "      <th>athlete_name</th>\n",
       "      <th>height</th>\n",
       "      <th>weight</th>\n",
       "      <th>bodyFat</th>\n",
       "      <th>heartRateVariability</th>\n",
       "      <th>vo2Max</th>\n",
       "      <th>bloodOxygen</th>\n",
       "      <th>injurySeverityScore</th>\n",
       "      <th>country</th>\n",
       "      <th>gdp</th>\n",
       "      <th>population</th>\n",
       "      <th>country_year</th>\n",
       "      <th>ranking</th>\n",
       "      <th>participation_year</th>\n",
       "      <th>event_name</th>\n",
       "      <th>sportName</th>\n",
       "      <th>medal_category</th>\n",
       "      <th>has_medal</th>\n",
       "    </tr>\n",
       "  </thead>\n",
       "  <tbody>\n",
       "    <tr>\n",
       "      <th>0</th>\n",
       "      <td>7</td>\n",
       "      <td>Patrick Chila</td>\n",
       "      <td>180.0</td>\n",
       "      <td>73.0</td>\n",
       "      <td>9.478610</td>\n",
       "      <td>90.131814</td>\n",
       "      <td>64.186082</td>\n",
       "      <td>99.241007</td>\n",
       "      <td>5.0</td>\n",
       "      <td>France</td>\n",
       "      <td>2.926803e+12</td>\n",
       "      <td>64379696</td>\n",
       "      <td>2008</td>\n",
       "      <td>49</td>\n",
       "      <td>2008</td>\n",
       "      <td>Singles, Men</td>\n",
       "      <td>Table Tennis</td>\n",
       "      <td>No Medal</td>\n",
       "      <td>0</td>\n",
       "    </tr>\n",
       "    <tr>\n",
       "      <th>1</th>\n",
       "      <td>15</td>\n",
       "      <td>Damien Éloi</td>\n",
       "      <td>165.0</td>\n",
       "      <td>58.0</td>\n",
       "      <td>14.560510</td>\n",
       "      <td>67.722398</td>\n",
       "      <td>61.741788</td>\n",
       "      <td>96.418747</td>\n",
       "      <td>3.0</td>\n",
       "      <td>France</td>\n",
       "      <td>2.926803e+12</td>\n",
       "      <td>64379696</td>\n",
       "      <td>2008</td>\n",
       "      <td>33</td>\n",
       "      <td>2008</td>\n",
       "      <td>Singles, Men</td>\n",
       "      <td>Table Tennis</td>\n",
       "      <td>No Medal</td>\n",
       "      <td>0</td>\n",
       "    </tr>\n",
       "    <tr>\n",
       "      <th>2</th>\n",
       "      <td>27</td>\n",
       "      <td>Christophe Legoût</td>\n",
       "      <td>177.0</td>\n",
       "      <td>75.0</td>\n",
       "      <td>9.714766</td>\n",
       "      <td>94.175905</td>\n",
       "      <td>60.406506</td>\n",
       "      <td>98.754808</td>\n",
       "      <td>0.0</td>\n",
       "      <td>France</td>\n",
       "      <td>2.926803e+12</td>\n",
       "      <td>64379696</td>\n",
       "      <td>2008</td>\n",
       "      <td>49</td>\n",
       "      <td>2008</td>\n",
       "      <td>Singles, Men</td>\n",
       "      <td>Table Tennis</td>\n",
       "      <td>No Medal</td>\n",
       "      <td>0</td>\n",
       "    </tr>\n",
       "  </tbody>\n",
       "</table>\n",
       "</div>"
      ],
      "text/plain": [
       "   athleteID       athlete_name  height  weight    bodyFat  \\\n",
       "0          7      Patrick Chila   180.0    73.0   9.478610   \n",
       "1         15        Damien Éloi   165.0    58.0  14.560510   \n",
       "2         27  Christophe Legoût   177.0    75.0   9.714766   \n",
       "\n",
       "   heartRateVariability     vo2Max  bloodOxygen  injurySeverityScore country  \\\n",
       "0             90.131814  64.186082    99.241007                  5.0  France   \n",
       "1             67.722398  61.741788    96.418747                  3.0  France   \n",
       "2             94.175905  60.406506    98.754808                  0.0  France   \n",
       "\n",
       "            gdp  population  country_year  ranking  participation_year  \\\n",
       "0  2.926803e+12    64379696          2008       49                2008   \n",
       "1  2.926803e+12    64379696          2008       33                2008   \n",
       "2  2.926803e+12    64379696          2008       49                2008   \n",
       "\n",
       "      event_name     sportName medal_category  has_medal  \n",
       "0  Singles, Men   Table Tennis       No Medal          0  \n",
       "1  Singles, Men   Table Tennis       No Medal          0  \n",
       "2  Singles, Men   Table Tennis       No Medal          0  "
      ]
     },
     "metadata": {},
     "output_type": "display_data"
    }
   ],
   "source": [
    "data_extraction_query = \"\"\"\n",
    "SELECT DISTINCT\n",
    "    a.athleteID,\n",
    "    a.name as athlete_name,\n",
    "    a.height,\n",
    "    a.weight,\n",
    "    a.bodyFat,\n",
    "    a.heartRateVariability,\n",
    "    a.vo2Max,\n",
    "    a.bloodOxygen,\n",
    "    a.injurySeverityScore,\n",
    "    c.name as country,\n",
    "    cd.gdp,\n",
    "    cd.population,\n",
    "    cd.year as country_year,\n",
    "    p.ranking,\n",
    "    p.year as participation_year,\n",
    "    se.eventName as event_name,\n",
    "    s.sportName,\n",
    "    -- Create medal categories\n",
    "    CASE \n",
    "        WHEN p.ranking = 1 THEN 'Gold'\n",
    "        WHEN p.ranking = 2 THEN 'Silver' \n",
    "        WHEN p.ranking = 3 THEN 'Bronze'\n",
    "        ELSE 'No Medal'\n",
    "    END as medal_category,\n",
    "    -- Binary target variable\n",
    "    CASE \n",
    "        WHEN p.ranking <= 3 THEN 1 \n",
    "        ELSE 0 \n",
    "    END as has_medal\n",
    "FROM ATHLETE a\n",
    "JOIN PARTICIPATES p ON a.athleteID = p.athleteID\n",
    "JOIN SINGLES_EVENT se ON p.eventID = se.eventID\n",
    "JOIN SPORT s ON se.sportId = s.sportId\n",
    "JOIN COUNTRY c ON a.noc = c.noc\n",
    "JOIN COUNTRY_DETAILS cd ON c.noc = cd.noc AND cd.year = p.year\n",
    "WHERE p.ranking IS NOT NULL\n",
    "    AND a.height IS NOT NULL\n",
    "    AND a.weight IS NOT NULL\n",
    "    AND cd.gdp IS NOT NULL\n",
    "    AND cd.population IS NOT NULL\n",
    "ORDER BY p.year, a.athleteID\n",
    "\"\"\"\n",
    "\n",
    "try:\n",
    "    df = pd.read_sql_query(data_extraction_query, conn)\n",
    "    \n",
    "    print(f\"Successfully extracted {len(df):,} records\")\n",
    "    print(f\"Unique athletes: {df['athleteID'].nunique():,}\")\n",
    "    print(f\"Countries represented: {df['country'].nunique()}\")\n",
    "    print(f\"Sports included: {df['sportName'].nunique()}\")\n",
    "    print(f\"Events covered: {df['event_name'].nunique()}\")\n",
    "    \n",
    "    print(f\"\\nMedal Distribution:\")\n",
    "    medal_dist = df['medal_category'].value_counts()\n",
    "    for medal, count in medal_dist.items():\n",
    "        percentage = (count / len(df)) * 100\n",
    "        print(f\"   {medal}: {count:,} ({percentage:.1f}%)\")\n",
    "    \n",
    "    print(f\"\\nSample Data:\")\n",
    "    display(df.head(3))\n",
    "    \n",
    "except Exception as e:\n",
    "    print(f\"Error extracting data: {e}\")\n",
    "    print(\"This might be due to missing tables or different schema structure.\")"
   ]
  },
  {
   "cell_type": "markdown",
   "metadata": {},
   "source": [
    "## 4. Save Data for Next Notebook"
   ]
  },
  {
   "cell_type": "code",
   "execution_count": 4,
   "metadata": {},
   "outputs": [
    {
     "name": "stdout",
     "output_type": "stream",
     "text": [
      "Data saved to 'olympic_data_raw.pkl' for use in next notebook.\n",
      "Final dataset shape: (21398, 19)\n",
      "Database connection closed.\n"
     ]
    }
   ],
   "source": [
    "if 'df' in locals() and df is not None:\n",
    "    df.to_pickle('olympic_data_raw.pkl')\n",
    "    print(\"Data saved to 'olympic_data_raw.pkl' for use in next notebook.\")\n",
    "    print(f\"Final dataset shape: {df.shape}\")\n",
    "else:\n",
    "    print(\"No data to save - check database connection and query.\")\n",
    "\n",
    "if 'conn' in locals():\n",
    "    conn.close()\n",
    "    print(\"Database connection closed.\")"
   ]
  }
 ],
 "metadata": {
  "kernelspec": {
   "display_name": "base",
   "language": "python",
   "name": "python3"
  },
  "language_info": {
   "codemirror_mode": {
    "name": "ipython",
    "version": 3
   },
   "file_extension": ".py",
   "mimetype": "text/x-python",
   "name": "python",
   "nbconvert_exporter": "python",
   "pygments_lexer": "ipython3",
   "version": "3.10.9"
  }
 },
 "nbformat": 4,
 "nbformat_minor": 4
}
