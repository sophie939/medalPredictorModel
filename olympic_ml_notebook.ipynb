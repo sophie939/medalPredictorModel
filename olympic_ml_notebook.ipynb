{
 "cells": [
  {
   "cell_type": "markdown",
   "metadata": {},
   "source": [
    "## 1. Setup and database connection"
   ]
  },
  {
   "cell_type": "code",
   "execution_count": 25,
   "metadata": {},
   "outputs": [
    {
     "name": "stdout",
     "output_type": "stream",
     "text": [
      "All libraries imported successfully!\n",
      "Analysis Date: 2025-07-23 22:19:15\n"
     ]
    }
   ],
   "source": [
    "import pandas as pd\n",
    "import numpy as np\n",
    "import sqlite3\n",
    "import warnings\n",
    "import os\n",
    "from pathlib import Path\n",
    "warnings.filterwarnings('ignore')\n",
    "\n",
    "import matplotlib.pyplot as plt\n",
    "import seaborn as sns\n",
    "import plotly.express as px\n",
    "import plotly.graph_objects as go\n",
    "from plotly.subplots import make_subplots\n",
    "\n",
    "from sklearn.model_selection import train_test_split, cross_val_score, GridSearchCV, StratifiedKFold\n",
    "from sklearn.preprocessing import StandardScaler, LabelEncoder\n",
    "from sklearn.ensemble import GradientBoostingClassifier\n",
    "from sklearn.metrics import (\n",
    "    classification_report, confusion_matrix, roc_auc_score, \n",
    "    roc_curve, precision_recall_curve, accuracy_score, f1_score\n",
    ")\n",
    "from sklearn.pipeline import Pipeline\n",
    "from sklearn.inspection import permutation_importance\n",
    "\n",
    "import joblib\n",
    "from datetime import datetime\n",
    "\n",
    "plt.style.use('seaborn-v0_8')\n",
    "sns.set_palette(\"husl\")\n",
    "\n",
    "print(\"All libraries imported successfully!\")\n",
    "print(f\"Analysis Date: {datetime.now().strftime('%Y-%m-%d %H:%M:%S')}\")"
   ]
  },
  {
   "cell_type": "code",
   "execution_count": 26,
   "metadata": {},
   "outputs": [
    {
     "name": "stdout",
     "output_type": "stream",
     "text": [
      "Database found: /Users/sophie/Desktop/Uni_year_2/project-at2024-theolympians/Group_Project/olympics_SQL.db\n",
      "Available tables: COUNTRY, COUNTRY_DETAILS, SPORT, OLYMPIC, SINGLES_EVENT, TEAM_EVENT, OLYMPIC_SPORT, PART_OF, ATHLETE, PARTICIPATES, TEAM\n",
      "Database size: 6.91 MB\n"
     ]
    }
   ],
   "source": [
    "DB_PATH = '/Users/sophie/Desktop/Uni_year_2/project-at2024-theolympians/Group_Project/olympics_SQL.db'\n",
    "\n",
    "# Check if database exists\n",
    "if not os.path.exists(DB_PATH):\n",
    "    print(f\"Database not found at {DB_PATH}\")\n",
    "    print(\"Please ensure the database file is in the correct location.\")\n",
    "else:\n",
    "    print(f\"Database found: {DB_PATH}\")\n",
    "\n",
    "    conn = sqlite3.connect(DB_PATH)\n",
    "    \n",
    "    tables_query = \"SELECT name FROM sqlite_master WHERE type='table';\"\n",
    "    tables = pd.read_sql_query(tables_query, conn)\n",
    "    \n",
    "    print(f\"Available tables: {', '.join(tables['name'].tolist())}\")\n",
    "    print(f\"Database size: {os.path.getsize(DB_PATH) / 1024 / 1024:.2f} MB\")"
   ]
  },
  {
   "cell_type": "markdown",
   "metadata": {},
   "source": [
    "## 2. Exploratory data analysis"
   ]
  },
  {
   "cell_type": "code",
   "execution_count": 27,
   "metadata": {},
   "outputs": [
    {
     "name": "stdout",
     "output_type": "stream",
     "text": [
      "Successfully extracted 21,398 records\n",
      "Unique athletes: 12,354\n",
      "Countries represented: 167\n",
      "Sports included: 48\n",
      "Events covered: 266\n",
      "\n",
      "Medal Distribution:\n",
      "   No Medal: 19,090 (89.2%)\n",
      "   Bronze: 907 (4.2%)\n",
      "   Silver: 708 (3.3%)\n",
      "   Gold: 693 (3.2%)\n",
      "\n",
      "Sample Data:\n"
     ]
    },
    {
     "data": {
      "text/html": [
       "<div>\n",
       "<style scoped>\n",
       "    .dataframe tbody tr th:only-of-type {\n",
       "        vertical-align: middle;\n",
       "    }\n",
       "\n",
       "    .dataframe tbody tr th {\n",
       "        vertical-align: top;\n",
       "    }\n",
       "\n",
       "    .dataframe thead th {\n",
       "        text-align: right;\n",
       "    }\n",
       "</style>\n",
       "<table border=\"1\" class=\"dataframe\">\n",
       "  <thead>\n",
       "    <tr style=\"text-align: right;\">\n",
       "      <th></th>\n",
       "      <th>athleteID</th>\n",
       "      <th>athlete_name</th>\n",
       "      <th>height</th>\n",
       "      <th>weight</th>\n",
       "      <th>bodyFat</th>\n",
       "      <th>heartRateVariability</th>\n",
       "      <th>vo2Max</th>\n",
       "      <th>bloodOxygen</th>\n",
       "      <th>injurySeverityScore</th>\n",
       "      <th>country</th>\n",
       "      <th>gdp</th>\n",
       "      <th>population</th>\n",
       "      <th>country_year</th>\n",
       "      <th>ranking</th>\n",
       "      <th>participation_year</th>\n",
       "      <th>event_name</th>\n",
       "      <th>sportName</th>\n",
       "      <th>medal_category</th>\n",
       "      <th>has_medal</th>\n",
       "    </tr>\n",
       "  </thead>\n",
       "  <tbody>\n",
       "    <tr>\n",
       "      <th>0</th>\n",
       "      <td>7</td>\n",
       "      <td>Patrick Chila</td>\n",
       "      <td>180.0</td>\n",
       "      <td>73.0</td>\n",
       "      <td>9.478610</td>\n",
       "      <td>90.131814</td>\n",
       "      <td>64.186082</td>\n",
       "      <td>99.241007</td>\n",
       "      <td>5.0</td>\n",
       "      <td>France</td>\n",
       "      <td>2.926803e+12</td>\n",
       "      <td>64379696</td>\n",
       "      <td>2008</td>\n",
       "      <td>49</td>\n",
       "      <td>2008</td>\n",
       "      <td>Singles, Men</td>\n",
       "      <td>Table Tennis</td>\n",
       "      <td>No Medal</td>\n",
       "      <td>0</td>\n",
       "    </tr>\n",
       "    <tr>\n",
       "      <th>1</th>\n",
       "      <td>15</td>\n",
       "      <td>Damien Éloi</td>\n",
       "      <td>165.0</td>\n",
       "      <td>58.0</td>\n",
       "      <td>14.560510</td>\n",
       "      <td>67.722398</td>\n",
       "      <td>61.741788</td>\n",
       "      <td>96.418747</td>\n",
       "      <td>3.0</td>\n",
       "      <td>France</td>\n",
       "      <td>2.926803e+12</td>\n",
       "      <td>64379696</td>\n",
       "      <td>2008</td>\n",
       "      <td>33</td>\n",
       "      <td>2008</td>\n",
       "      <td>Singles, Men</td>\n",
       "      <td>Table Tennis</td>\n",
       "      <td>No Medal</td>\n",
       "      <td>0</td>\n",
       "    </tr>\n",
       "    <tr>\n",
       "      <th>2</th>\n",
       "      <td>27</td>\n",
       "      <td>Christophe Legoût</td>\n",
       "      <td>177.0</td>\n",
       "      <td>75.0</td>\n",
       "      <td>9.714766</td>\n",
       "      <td>94.175905</td>\n",
       "      <td>60.406506</td>\n",
       "      <td>98.754808</td>\n",
       "      <td>0.0</td>\n",
       "      <td>France</td>\n",
       "      <td>2.926803e+12</td>\n",
       "      <td>64379696</td>\n",
       "      <td>2008</td>\n",
       "      <td>49</td>\n",
       "      <td>2008</td>\n",
       "      <td>Singles, Men</td>\n",
       "      <td>Table Tennis</td>\n",
       "      <td>No Medal</td>\n",
       "      <td>0</td>\n",
       "    </tr>\n",
       "  </tbody>\n",
       "</table>\n",
       "</div>"
      ],
      "text/plain": [
       "   athleteID       athlete_name  height  weight    bodyFat  \\\n",
       "0          7      Patrick Chila   180.0    73.0   9.478610   \n",
       "1         15        Damien Éloi   165.0    58.0  14.560510   \n",
       "2         27  Christophe Legoût   177.0    75.0   9.714766   \n",
       "\n",
       "   heartRateVariability     vo2Max  bloodOxygen  injurySeverityScore country  \\\n",
       "0             90.131814  64.186082    99.241007                  5.0  France   \n",
       "1             67.722398  61.741788    96.418747                  3.0  France   \n",
       "2             94.175905  60.406506    98.754808                  0.0  France   \n",
       "\n",
       "            gdp  population  country_year  ranking  participation_year  \\\n",
       "0  2.926803e+12    64379696          2008       49                2008   \n",
       "1  2.926803e+12    64379696          2008       33                2008   \n",
       "2  2.926803e+12    64379696          2008       49                2008   \n",
       "\n",
       "      event_name     sportName medal_category  has_medal  \n",
       "0  Singles, Men   Table Tennis       No Medal          0  \n",
       "1  Singles, Men   Table Tennis       No Medal          0  \n",
       "2  Singles, Men   Table Tennis       No Medal          0  "
      ]
     },
     "metadata": {},
     "output_type": "display_data"
    }
   ],
   "source": [
    "data_extraction_query = \"\"\"\n",
    "SELECT DISTINCT\n",
    "    a.athleteID,\n",
    "    a.name as athlete_name,\n",
    "    a.height,\n",
    "    a.weight,\n",
    "    a.bodyFat,\n",
    "    a.heartRateVariability,\n",
    "    a.vo2Max,\n",
    "    a.bloodOxygen,\n",
    "    a.injurySeverityScore,\n",
    "    c.name as country,\n",
    "    cd.gdp,\n",
    "    cd.population,\n",
    "    cd.year as country_year,\n",
    "    p.ranking,\n",
    "    p.year as participation_year,\n",
    "    se.eventName as event_name,\n",
    "    s.sportName,\n",
    "    -- Create medal categories\n",
    "    CASE \n",
    "        WHEN p.ranking = 1 THEN 'Gold'\n",
    "        WHEN p.ranking = 2 THEN 'Silver' \n",
    "        WHEN p.ranking = 3 THEN 'Bronze'\n",
    "        ELSE 'No Medal'\n",
    "    END as medal_category,\n",
    "    -- Binary target variable\n",
    "    CASE \n",
    "        WHEN p.ranking <= 3 THEN 1 \n",
    "        ELSE 0 \n",
    "    END as has_medal\n",
    "FROM ATHLETE a\n",
    "JOIN PARTICIPATES p ON a.athleteID = p.athleteID\n",
    "JOIN SINGLES_EVENT se ON p.eventID = se.eventID\n",
    "JOIN SPORT s ON se.sportId = s.sportId\n",
    "JOIN COUNTRY c ON a.noc = c.noc\n",
    "JOIN COUNTRY_DETAILS cd ON c.noc = cd.noc AND cd.year = p.year\n",
    "WHERE p.ranking IS NOT NULL\n",
    "    AND a.height IS NOT NULL\n",
    "    AND a.weight IS NOT NULL\n",
    "    AND cd.gdp IS NOT NULL\n",
    "    AND cd.population IS NOT NULL\n",
    "ORDER BY p.year, a.athleteID\n",
    "\"\"\"\n",
    "\n",
    "try:\n",
    "    df = pd.read_sql_query(data_extraction_query, conn)\n",
    "    \n",
    "    print(f\"Successfully extracted {len(df):,} records\")\n",
    "    print(f\"Unique athletes: {df['athleteID'].nunique():,}\")\n",
    "    print(f\"Countries represented: {df['country'].nunique()}\")\n",
    "    print(f\"Sports included: {df['sportName'].nunique()}\")\n",
    "    print(f\"Events covered: {df['event_name'].nunique()}\")\n",
    "    \n",
    "    # Medal distribution\n",
    "    print(f\"\\nMedal Distribution:\")\n",
    "    medal_dist = df['medal_category'].value_counts()\n",
    "    for medal, count in medal_dist.items():\n",
    "        percentage = (count / len(df)) * 100\n",
    "        print(f\"   {medal}: {count:,} ({percentage:.1f}%)\")\n",
    "    \n",
    "    # Display sample data\n",
    "    print(f\"\\nSample Data:\")\n",
    "    display(df.head(3))\n",
    "    \n",
    "except Exception as e:\n",
    "    print(f\"Error extracting data: {e}\")\n",
    "    print(\"This might be due to missing tables or different schema structure.\")"
   ]
  },
  {
   "cell_type": "markdown",
   "metadata": {},
   "source": [
    "## 3. Feature engineering"
   ]
  },
  {
   "cell_type": "code",
   "execution_count": 28,
   "metadata": {},
   "outputs": [
    {
     "name": "stdout",
     "output_type": "stream",
     "text": [
      "Total features created: 34\n",
      "Dataset shape: (21398, 34)\n"
     ]
    }
   ],
   "source": [
    "df_features = df.copy()\n",
    "\n",
    "# 1. Basic derived features\n",
    "df_features['gdp_per_capita'] = df_features['gdp'] / df_features['population']\n",
    "df_features['bmi'] = df_features['weight'] / ((df_features['height'] / 100) ** 2)\n",
    "df_features['height_weight_ratio'] = df_features['height'] / df_features['weight']\n",
    "\n",
    "# 2. Age estimation\n",
    "df_features['estimated_age'] = 20 + (df_features['participation_year'] - 2008) * 0.3\n",
    "\n",
    "# 3. Health composite score\n",
    "df_features['fitness_score'] = (\n",
    "    df_features['vo2Max'] * 0.4 + \n",
    "    df_features['bloodOxygen'] * 0.3 + \n",
    "    (100 - df_features['bodyFat']) * 0.2 +\n",
    "    df_features['heartRateVariability'] * 0.1\n",
    ")\n",
    "\n",
    "df_features['risk_score'] = (\n",
    "    df_features['injurySeverityScore'] * 0.6 +\n",
    "    df_features['bodyFat'] * 0.4\n",
    ")\n",
    "\n",
    "# 4. Country-level performance metrics\n",
    "country_stats = df_features.groupby('country').agg({\n",
    "    'has_medal': ['mean', 'count', 'sum'],\n",
    "    'ranking': 'mean',\n",
    "    'gdp_per_capita': 'mean'\n",
    "}).round(4)\n",
    "\n",
    "country_stats.columns = [\n",
    "    'country_medal_rate', 'country_total_athletes', 'country_total_medals',\n",
    "    'country_avg_ranking', 'country_avg_gdp_per_capita'\n",
    "]\n",
    "country_stats = country_stats.reset_index()\n",
    "\n",
    "# Merge back with main dataset\n",
    "df_features = df_features.merge(country_stats, on='country', how='left')\n",
    "\n",
    "# 5. Sport-level performance metrics\n",
    "sport_stats = df_features.groupby('sportName').agg({\n",
    "    'has_medal': ['mean', 'count'],\n",
    "    'ranking': 'mean',\n",
    "    'fitness_score': 'mean'\n",
    "}).round(4)\n",
    "\n",
    "sport_stats.columns = [\n",
    "    'sport_medal_rate', 'sport_total_participants', \n",
    "    'sport_avg_ranking', 'sport_avg_fitness'\n",
    "]\n",
    "sport_stats = sport_stats.reset_index()\n",
    "\n",
    "df_features = df_features.merge(sport_stats, on='sportName', how='left')\n",
    "\n",
    "print(f\"Total features created: {df_features.shape[1]}\")\n",
    "print(f\"Dataset shape: {df_features.shape}\")"
   ]
  },
  {
   "cell_type": "markdown",
   "metadata": {},
   "source": [
    "## 4. Model dev"
   ]
  },
  {
   "cell_type": "code",
   "execution_count": 29,
   "metadata": {},
   "outputs": [
    {
     "name": "stdout",
     "output_type": "stream",
     "text": [
      "Selected 16 features for modeling\n",
      "Feature matrix shape: (21398, 16)\n",
      "Medal rate: 10.8%\n"
     ]
    }
   ],
   "source": [
    "# Feature selection\n",
    "feature_columns = [\n",
    "    'height', 'weight', 'bmi', 'bodyFat', 'heartRateVariability', \n",
    "    'vo2Max', 'bloodOxygen', 'injurySeverityScore',\n",
    "    'fitness_score', 'risk_score', 'estimated_age',\n",
    "    'gdp_per_capita', 'country_medal_rate', 'country_avg_ranking', \n",
    "    'sport_medal_rate', 'sport_avg_ranking'\n",
    "]\n",
    "\n",
    "available_features = [col for col in feature_columns if col in df_features.columns]\n",
    "\n",
    "X = df_features[available_features].copy()\n",
    "y = df_features['has_medal'].copy()\n",
    "\n",
    "# Handle missing values\n",
    "X = X.fillna(X.median())\n",
    "\n",
    "print(f\"Selected {len(available_features)} features for modeling\")\n",
    "print(f\"Feature matrix shape: {X.shape}\")\n",
    "print(f\"Medal rate: {y.mean():.1%}\")"
   ]
  },
  {
   "cell_type": "code",
   "execution_count": 30,
   "metadata": {},
   "outputs": [
    {
     "name": "stdout",
     "output_type": "stream",
     "text": [
      "Training set: 17,118 samples\n",
      "Test set: 4,280 samples\n"
     ]
    }
   ],
   "source": [
    "# Train-test split\n",
    "X_train, X_test, y_train, y_test = train_test_split(\n",
    "    X, y, test_size=0.2, random_state=42, stratify=y\n",
    ")\n",
    "\n",
    "print(f\"Training set: {X_train.shape[0]:,} samples\")\n",
    "print(f\"Test set: {X_test.shape[0]:,} samples\")"
   ]
  },
  {
   "cell_type": "code",
   "execution_count": 31,
   "metadata": {},
   "outputs": [
    {
     "name": "stdout",
     "output_type": "stream",
     "text": [
      "Baseline Gradient Boosting Model:\n",
      "CV AUC: 0.7506 (±0.0101)\n"
     ]
    }
   ],
   "source": [
    "print(\"Baseline Gradient Boosting Model:\")\n",
    "\n",
    "baseline_pipeline = Pipeline([\n",
    "    ('scaler', StandardScaler()),\n",
    "    ('gb', GradientBoostingClassifier(\n",
    "        random_state=42,\n",
    "        n_estimators=100,\n",
    "        learning_rate=0.1,\n",
    "        max_depth=3\n",
    "    ))\n",
    "])\n",
    "\n",
    "# Train baseline model\n",
    "baseline_pipeline.fit(X_train, y_train)\n",
    "\n",
    "# Cross-validation\n",
    "cv_scores = cross_val_score(\n",
    "    baseline_pipeline, X_train, y_train, \n",
    "    cv=5, scoring='roc_auc'\n",
    ")\n",
    "\n",
    "print(f\"CV AUC: {cv_scores.mean():.4f} (±{cv_scores.std():.4f})\")"
   ]
  },
  {
   "cell_type": "code",
   "execution_count": 32,
   "metadata": {},
   "outputs": [
    {
     "name": "stdout",
     "output_type": "stream",
     "text": [
      "Hyperparameter Optimization:\n",
      "Fitting 3 folds for each of 36 candidates, totalling 108 fits\n",
      "Best CV Score: 0.7578\n",
      "Best Parameters: {'gb__learning_rate': 0.1, 'gb__max_depth': 5, 'gb__min_samples_split': 10, 'gb__n_estimators': 100}\n"
     ]
    }
   ],
   "source": [
    "print(\"Hyperparameter Optimization:\")\n",
    "\n",
    "param_grid = {\n",
    "    'gb__n_estimators': [100, 200],\n",
    "    'gb__learning_rate': [0.05, 0.1, 0.15],\n",
    "    'gb__max_depth': [3, 4, 5],\n",
    "    'gb__min_samples_split': [10, 20]\n",
    "}\n",
    "\n",
    "grid_search = GridSearchCV(\n",
    "    baseline_pipeline,\n",
    "    param_grid,\n",
    "    cv=3,\n",
    "    scoring='roc_auc',\n",
    "    n_jobs=-1,\n",
    "    verbose=1\n",
    ")\n",
    "\n",
    "grid_search.fit(X_train, y_train)\n",
    "\n",
    "print(f\"Best CV Score: {grid_search.best_score_:.4f}\")\n",
    "print(f\"Best Parameters: {grid_search.best_params_}\")\n",
    "\n",
    "# Get best model\n",
    "best_model = grid_search.best_estimator_"
   ]
  },
  {
   "cell_type": "markdown",
   "metadata": {},
   "source": [
    "## 5. Testing and visualisation"
   ]
  },
  {
   "cell_type": "code",
   "execution_count": 33,
   "metadata": {},
   "outputs": [
    {
     "name": "stdout",
     "output_type": "stream",
     "text": [
      "FINAL TEST RESULTS:\n",
      "   AUC-ROC:  0.7646\n",
      "   Accuracy: 0.8963\n",
      "   F1-Score: 0.1591\n",
      "\n",
      "Classification Report:\n",
      "              precision    recall  f1-score   support\n",
      "\n",
      "    No Medal       0.90      0.99      0.94      3818\n",
      "       Medal       0.64      0.09      0.16       462\n",
      "\n",
      "    accuracy                           0.90      4280\n",
      "   macro avg       0.77      0.54      0.55      4280\n",
      "weighted avg       0.87      0.90      0.86      4280\n",
      "\n"
     ]
    }
   ],
   "source": [
    "y_test_pred = best_model.predict(X_test)\n",
    "y_test_pred_proba = best_model.predict_proba(X_test)[:, 1]\n",
    "\n",
    "test_auc = roc_auc_score(y_test, y_test_pred_proba)\n",
    "test_accuracy = accuracy_score(y_test, y_test_pred)\n",
    "test_f1 = f1_score(y_test, y_test_pred)\n",
    "\n",
    "print(f\"FINAL TEST RESULTS:\")\n",
    "print(f\"   AUC-ROC:  {test_auc:.4f}\")\n",
    "print(f\"   Accuracy: {test_accuracy:.4f}\")\n",
    "print(f\"   F1-Score: {test_f1:.4f}\")\n",
    "\n",
    "print(f\"\\nClassification Report:\")\n",
    "print(classification_report(y_test, y_test_pred, target_names=['No Medal', 'Medal']))"
   ]
  },
  {
   "cell_type": "code",
   "execution_count": 34,
   "metadata": {},
   "outputs": [
    {
     "data": {
      "image/png": "[encoded data removed]",
      "text/plain": [
       "<Figure size 1500x1200 with 5 Axes>"
      ]
     },
     "metadata": {},
     "output_type": "display_data"
    }
   ],
   "source": [
    "fig, axes = plt.subplots(2, 2, figsize=(15, 12))\n",
    "\n",
    "# Confusion Matrix\n",
    "cm = confusion_matrix(y_test, y_test_pred)\n",
    "sns.heatmap(cm, annot=True, fmt='d', cmap='Blues', ax=axes[0, 0])\n",
    "axes[0, 0].set_title('Confusion Matrix')\n",
    "axes[0, 0].set_ylabel('True Label')\n",
    "axes[0, 0].set_xlabel('Predicted Label')\n",
    "\n",
    "# ROC Curve\n",
    "fpr, tpr, _ = roc_curve(y_test, y_test_pred_proba)\n",
    "axes[0, 1].plot(fpr, tpr, linewidth=2, label=f'ROC (AUC = {test_auc:.3f})')\n",
    "axes[0, 1].plot([0, 1], [0, 1], 'k--', alpha=0.5)\n",
    "axes[0, 1].set_xlabel('False Positive Rate')\n",
    "axes[0, 1].set_ylabel('True Positive Rate')\n",
    "axes[0, 1].set_title('ROC Curve')\n",
    "axes[0, 1].legend()\n",
    "axes[0, 1].grid(True, alpha=0.3)\n",
    "\n",
    "# Feature Importance\n",
    "feature_importance = pd.DataFrame({\n",
    "    'feature': available_features,\n",
    "    'importance': best_model['gb'].feature_importances_\n",
    "}).sort_values('importance', ascending=True).tail(10)\n",
    "\n",
    "axes[1, 0].barh(range(len(feature_importance)), feature_importance['importance'])\n",
    "axes[1, 0].set_yticks(range(len(feature_importance)))\n",
    "axes[1, 0].set_yticklabels(feature_importance['feature'])\n",
    "axes[1, 0].set_xlabel('Feature Importance')\n",
    "axes[1, 0].set_title('Top 10 Feature Importance')\n",
    "\n",
    "# Prediction Distribution\n",
    "axes[1, 1].hist(y_test_pred_proba[y_test == 0], bins=20, alpha=0.7, label='No Medal', density=True)\n",
    "axes[1, 1].hist(y_test_pred_proba[y_test == 1], bins=20, alpha=0.7, label='Medal', density=True)\n",
    "axes[1, 1].set_xlabel('Predicted Probability')\n",
    "axes[1, 1].set_ylabel('Density')\n",
    "axes[1, 1].set_title('Prediction Distribution')\n",
    "axes[1, 1].legend()\n",
    "\n",
    "plt.tight_layout()\n",
    "plt.show()\n"
   ]
  },
  {
   "cell_type": "markdown",
   "metadata": {},
   "source": [
    "## 6. Feature ranking"
   ]
  },
  {
   "cell_type": "code",
   "execution_count": 35,
   "metadata": {},
   "outputs": [
    {
     "name": "stdout",
     "output_type": "stream",
     "text": [
      "10 most important features:\n",
      "=============================================\n",
      " 1. country_medal_rate       : 0.2557\n",
      " 2. sport_medal_rate         : 0.1088\n",
      " 3. fitness_score            : 0.0619\n",
      " 4. sport_avg_ranking        : 0.0573\n",
      " 5. bodyFat                  : 0.0572\n",
      " 6. bmi                      : 0.0542\n",
      " 7. vo2Max                   : 0.0520\n",
      " 8. risk_score               : 0.0513\n",
      " 9. bloodOxygen              : 0.0503\n",
      "10. heartRateVariability     : 0.0496\n",
      "\n",
      "By category:\n",
      "========================================\n",
      "Physical    : 0.1354\n",
      "Health      : 0.2221\n",
      "Derived     : 0.1287\n",
      "Economic    : 0.0471\n",
      "Performance : 0.4667\n"
     ]
    }
   ],
   "source": [
    "feature_importance_df = pd.DataFrame({\n",
    "    'feature': available_features,\n",
    "    'importance': best_model['gb'].feature_importances_\n",
    "}).sort_values('importance', ascending=False)\n",
    "\n",
    "print(\"10 most important features:\")\n",
    "print(\"=\" * 45)\n",
    "for i, (_, row) in enumerate(feature_importance_df.head(10).iterrows(), 1):\n",
    "    print(f\"{i:2d}. {row['feature']:<25}: {row['importance']:.4f}\")\n",
    "\n",
    "feature_categories = {\n",
    "    'Physical': ['height', 'weight', 'bmi'],\n",
    "    'Health': ['bodyFat', 'heartRateVariability', 'vo2Max', 'bloodOxygen', 'injurySeverityScore'],\n",
    "    'Derived': ['fitness_score', 'risk_score', 'estimated_age'],\n",
    "    'Economic': ['gdp_per_capita'],\n",
    "    'Performance': ['country_medal_rate', 'country_avg_ranking', 'sport_medal_rate', 'sport_avg_ranking']\n",
    "}\n",
    "\n",
    "print(f\"\\nBy category:\")\n",
    "print(\"=\" * 40)\n",
    "for category, features in feature_categories.items():\n",
    "    category_importance = feature_importance_df[\n",
    "        feature_importance_df['feature'].isin(features)\n",
    "    ]['importance'].sum()\n",
    "    print(f\"{category:<12}: {category_importance:.4f}\")"
   ]
  },
  {
   "cell_type": "markdown",
   "metadata": {},
   "source": [
    "## 7. Saving model"
   ]
  },
  {
   "cell_type": "code",
   "execution_count": 36,
   "metadata": {},
   "outputs": [
    {
     "name": "stdout",
     "output_type": "stream",
     "text": [
      "\n",
      "Summary:\n",
      "   Test AUC: 0.7646\n",
      "   Features: 16\n",
      "   Training samples: 17,118\n"
     ]
    }
   ],
   "source": [
    "model_metadata = {\n",
    "    'model_name': 'Olympic Medal Predictor - Gradient Boosting',\n",
    "    'model_type': 'GradientBoostingClassifier',\n",
    "    'test_auc': test_auc,\n",
    "    'test_accuracy': test_accuracy,\n",
    "    'test_f1': test_f1,\n",
    "    'cv_score': grid_search.best_score_,\n",
    "    'best_params': grid_search.best_params_,\n",
    "    'feature_names': available_features,\n",
    "    'training_date': datetime.now().strftime('%Y-%m-%d %H:%M:%S'),\n",
    "    'training_samples': len(X_train),\n",
    "    'test_samples': len(X_test)\n",
    "}\n",
    "\n",
    "# Save model and metadata\n",
    "joblib.dump(best_model, 'olympic_medal_predictor_gb.pkl')\n",
    "joblib.dump(model_metadata, 'model_metadata.pkl')\n",
    "\n",
    "print(f\"\\nSummary:\")\n",
    "print(f\"   Test AUC: {test_auc:.4f}\")\n",
    "print(f\"   Features: {len(available_features)}\")\n",
    "print(f\"   Training samples: {len(X_train):,}\")\n"
   ]
  }
 ],
 "metadata": {
  "kernelspec": {
   "display_name": "base",
   "language": "python",
   "name": "python3"
  },
  "language_info": {
   "codemirror_mode": {
    "name": "ipython",
    "version": 3
   },
   "file_extension": ".py",
   "mimetype": "text/x-python",
   "name": "python",
   "nbconvert_exporter": "python",
   "pygments_lexer": "ipython3",
   "version": "3.10.9"
  }
 },
 "nbformat": 4,
 "nbformat_minor": 4
}
